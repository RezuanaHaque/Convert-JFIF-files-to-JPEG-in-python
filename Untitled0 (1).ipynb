{
  "nbformat": 4,
  "nbformat_minor": 0,
  "metadata": {
    "colab": {
      "provenance": []
    },
    "kernelspec": {
      "name": "python3",
      "display_name": "Python 3"
    },
    "language_info": {
      "name": "python"
    }
  },
  "cells": [
    {
      "cell_type": "code",
      "source": [
        "import os\n",
        "import shutil\n",
        "import cv2\n",
        "def check_file_extension (source_dir, good_ext_list, delete=False, convert_ext=None): \n",
        "    # source_dir is the directory containing the class sub directories that hold the images\n",
        "    # good_ext_list is a list of strings you specify as good extensions for the ImageDataGenerator\n",
        "    # this list should be ['jpg', 'jpeg', 'bmp', 'png', 'tiff']\n",
        "    # delete is a boolean, if set to True image files that have invalid extensions or are not valid\n",
        "    # image files will be deleted.\n",
        "    # the function return a list. If delete=False this is a list of all files that have invalid\n",
        "    # extensions or are not valid image files\n",
        "    # if convert_ext is set to other than None, it should be a string indicating the new image format\n",
        "    # the files will be converted to, for example \"jpg\"\n",
        "    processed_count=0 # will be total number of files found\n",
        "    good_count=0 # will be total number of valid image files found\n",
        "    bad_file_list=[]  # will be a list of all files processed that had invalid extensions\n",
        "    removed_count=0  # will be the number of files deleted if delete is set to true\n",
        "    class_list=os.listdir(source_dir)\n",
        "    if len(class_list)==0:\n",
        "        print('directory ', source_dir, ' is empty *** Program Terminating')\n",
        "        return None\n",
        "    print('{0:^20s}{1}{2:^17s}{1}{3:^14s}{1}{4:^15s}'.format('Class Directory',' ', 'Files Processed', 'Files Verified', 'Files Removed'))\n",
        "    for klass in class_list:         \n",
        "        class_path=os.path.join(source_dir, klass)\n",
        "        if os.path.isdir(class_path)==False:# check if this is a directory if it is not print a warning\n",
        "            print ('*** Warning *** there are files in ', source_dir, ' it should only contain sub directories' )\n",
        "        else:\n",
        "            class_file_count=0 # will be number of files found in the class directory            \n",
        "            class_good_count=0 # will be the number of good files found in the class directory\n",
        "            class_removed_count =0                                   \n",
        "            f_list=os.listdir(class_path) # get a list of files in the class directory            \n",
        "            for f in f_list:\n",
        "                f_path=os.path.join(class_path,f)\n",
        "                if os.path.isfile(f_path)==False: # check if it is a file if it is a directory print a warning\n",
        "                    print ('*** Warning *** there is a directory in ', class_path, ' there should only be files there')\n",
        "                else:\n",
        "                    class_file_count +=1 #increment class file counter\n",
        "                    index=f.rfind('.')\n",
        "                    fname=f[:index]        \n",
        "                    fext=f[index+1:].lower()\n",
        "                    if fext not in good_ext_list and fext !='jfif':\n",
        "                        if delete:\n",
        "                            os.remove(f_path)\n",
        "                            class_removed_count +=1 # increment removed file counter\n",
        "                            \n",
        "                        else:\n",
        "                            bad_file_list.append(f_path) # don't delete but put the path in list of files with bad extensions\n",
        "                            \n",
        "                    else:\n",
        "                        if fext =='jfif':   # if ext= jfif change it to jpg\n",
        "                            fnew_path=os.path.join(class_path, fname + '.' + 'jpg')\n",
        "                            shutil.copy(f_path,fnew_path )\n",
        "                            os.remove(f_path)\n",
        "                        else:\n",
        "                            try:\n",
        "                                img=cv2.imread(f_path)\n",
        "                                shape=img.shape\n",
        "                                if convert_ext !=None:\n",
        "                                    fnew_path=os.path.join(class_path, fname + '.' + convert_ext)                                    \n",
        "                                    cv2.imwrite(fnew_path,img)\n",
        "                                    os.remove (f_path)\n",
        "                                class_good_count +=1                                \n",
        "                            except:\n",
        "                                if delete:\n",
        "                                    os.remove(f_path)\n",
        "                                    class_removed_count +=1\n",
        "                                else:\n",
        "                                    bad_file_list.append(f_path)\n",
        "            print('{0:^20s}{1}{2:^17s}{1}{3:^14s}{1}{4:^15s}'.format(klass,' ', str(class_file_count),str(class_good_count), str(class_removed_count)) )\n",
        "            processed_count=processed_count + class_file_count\n",
        "            good_count=good_count + class_good_count\n",
        "            removed_count=removed_count+ class_removed_count \n",
        "    print('processed ', processed_count, ' files  ', good_count, 'files were verified  ', removed_count, ' files were removed')\n",
        "       \n",
        "    return bad_file_list"
      ],
      "metadata": {
        "id": "DqwVD2S4TDx2"
      },
      "execution_count": null,
      "outputs": []
    },
    {
      "cell_type": "code",
      "source": [
        "source_dir=r'/content/drive/MyDrive/Monkey2'\n",
        "good_ext_list=['jpg', 'jpeg', 'bmp', 'tiff', 'png']\n",
        "new_ext='jpg'\n",
        "bad_file_list=check_file_extension (source_dir, good_ext_list, delete=False,convert_ext=new_ext )\n",
        "print (bad_file_list)"
      ],
      "metadata": {
        "colab": {
          "base_uri": "https://localhost:8080/"
        },
        "id": "3fEJdr-uTHGF",
        "outputId": "a2754d7a-9932-4e8f-f4eb-a71febece3d8"
      },
      "execution_count": null,
      "outputs": [
        {
          "output_type": "stream",
          "name": "stdout",
          "text": [
            "  Class Directory     Files Processed  Files Verified  Files Removed \n",
            "     Monkeypox              43               0               0       \n",
            "     Chickenpox             47               0               0       \n",
            "      Measles               27               0               0       \n",
            "       Normal               54               21              0       \n",
            " .ipynb_checkpoints          0               0               0       \n",
            "processed  171  files   21 files were verified   0  files were removed\n",
            "[]\n"
          ]
        }
      ]
    }
  ]
}